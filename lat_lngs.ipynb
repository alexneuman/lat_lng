{
 "cells": [
  {
   "cell_type": "code",
   "execution_count": 1,
   "metadata": {},
   "outputs": [],
   "source": [
    "import pandas as pd\n",
    "from itertools import product, permutations, chain\n",
    "from random import choice"
   ]
  },
  {
   "cell_type": "code",
   "execution_count": 2,
   "metadata": {},
   "outputs": [],
   "source": [
    "LAT_MILE = 0.0625288\n",
    "LNG_MILE = 0.0623171\n",
    "\n",
    "lats = tuple(l*LAT_MILE for l in range(int(180/LNG_MILE)))\n",
    "lngs = tuple(l*LNG_MILE for l in range(int(90/LAT_MILE)))"
   ]
  },
  {
   "cell_type": "code",
   "execution_count": 3,
   "metadata": {},
   "outputs": [],
   "source": [
    "f = list(product(lngs, lats))"
   ]
  },
  {
   "cell_type": "code",
   "execution_count": 4,
   "metadata": {},
   "outputs": [
    {
     "data": {
      "text/plain": [
       "16623328"
      ]
     },
     "execution_count": 4,
     "metadata": {},
     "output_type": "execute_result"
    }
   ],
   "source": [
    "F = []\n",
    "for lat, lng in f:\n",
    "    F.append((lat, lng))\n",
    "    F.append((-lat, lng))\n",
    "    F.append((lat, -lng))\n",
    "    F.append((-lat, -lng))\n",
    "len(F)\n",
    "    "
   ]
  },
  {
   "cell_type": "code",
   "execution_count": 5,
   "metadata": {},
   "outputs": [],
   "source": [
    "r = tuple((round(a, 1), round(b, 1)) for a,b in F)"
   ]
  },
  {
   "cell_type": "code",
   "execution_count": 156,
   "metadata": {},
   "outputs": [],
   "source": [
    "gt_locations = [[150, 180, 70, 90], [130, 180, 0, 30], [-180, 180, -90, -57], [-180, -127, 73, 90], [53, 95, -90, 0], [144, 180, 0, 40], [-180, -158, 0, 51], [-180, -80, -90, 0], [-180, 0, 83, 90], [-153, -125, 0, 48], [-180, -133, 22, 51], [-13.8, 9, 66.59, 79.73], [96, 180, -90, -48], [-48, -18, 11, 59], [-150, -92, 1, 14], [-33, 0, -180, 0], [-151, -128, 70, 90], [156, 180, 8,50], [-60, -54, 56, 66], [19, 135, -80, -35.6], [-57, -26, 6.7, 46], [-55, -10.48, 38, 59], [0, 90, 77.3, 90], [0, 5.8, -90, 5.9], [-69, -17, 19, 32]]\n",
    "def filter_locations(lat_lng):\n",
    "    lng, lat = lat_lng\n",
    "    for min_lat, max_lat, min_lng, max_lng in gt_locations:\n",
    "        if (lat >= min_lat and lat <= max_lat) and (lng >=min_lng and lng <= max_lng):\n",
    "            return False\n",
    "    return True"
   ]
  },
  {
   "cell_type": "code",
   "execution_count": 157,
   "metadata": {},
   "outputs": [
    {
     "data": {
      "text/plain": [
       "7528609"
      ]
     },
     "execution_count": 157,
     "metadata": {},
     "output_type": "execute_result"
    }
   ],
   "source": [
    "x = tuple(filter(filter_locations, F))\n",
    "len(x)"
   ]
  },
  {
   "cell_type": "code",
   "execution_count": 169,
   "metadata": {},
   "outputs": [
    {
     "data": {
      "text/plain": [
       "(-31.8440381, -51.7738464)"
      ]
     },
     "execution_count": 169,
     "metadata": {},
     "output_type": "execute_result"
    }
   ],
   "source": [
    "choice(x)"
   ]
  },
  {
   "cell_type": "code",
   "execution_count": 159,
   "metadata": {},
   "outputs": [
    {
     "data": {
      "text/plain": [
       "7528609"
      ]
     },
     "execution_count": 159,
     "metadata": {},
     "output_type": "execute_result"
    }
   ],
   "source": [
    "len(x)"
   ]
  },
  {
   "cell_type": "code",
   "execution_count": 242,
   "metadata": {},
   "outputs": [],
   "source": [
    "g = tuple(filter(filter_locations, r))"
   ]
  },
  {
   "cell_type": "code",
   "execution_count": 78,
   "metadata": {},
   "outputs": [
    {
     "ename": "NameError",
     "evalue": "name 'g' is not defined",
     "output_type": "error",
     "traceback": [
      "\u001b[0;31m---------------------------------------------------------------------------\u001b[0m",
      "\u001b[0;31mNameError\u001b[0m                                 Traceback (most recent call last)",
      "\u001b[1;32m/Users/alexanderscott/dev/pandas/lat_lng/lat_lngs.ipynb Cell 11\u001b[0m in \u001b[0;36m<cell line: 1>\u001b[0;34m()\u001b[0m\n\u001b[0;32m----> <a href='vscode-notebook-cell:/Users/alexanderscott/dev/pandas/lat_lng/lat_lngs.ipynb#X13sZmlsZQ%3D%3D?line=0'>1</a>\u001b[0m \u001b[39mlen\u001b[39m(g)\n",
      "\u001b[0;31mNameError\u001b[0m: name 'g' is not defined"
     ]
    }
   ],
   "source": [
    "len(g)"
   ]
  },
  {
   "cell_type": "code",
   "execution_count": 221,
   "metadata": {},
   "outputs": [
    {
     "data": {
      "text/plain": [
       "4155832"
      ]
     },
     "execution_count": 221,
     "metadata": {},
     "output_type": "execute_result"
    }
   ],
   "source": []
  },
  {
   "cell_type": "code",
   "execution_count": null,
   "metadata": {},
   "outputs": [],
   "source": []
  }
 ],
 "metadata": {
  "kernelspec": {
   "display_name": "Python 3.10.5 64-bit",
   "language": "python",
   "name": "python3"
  },
  "language_info": {
   "codemirror_mode": {
    "name": "ipython",
    "version": 3
   },
   "file_extension": ".py",
   "mimetype": "text/x-python",
   "name": "python",
   "nbconvert_exporter": "python",
   "pygments_lexer": "ipython3",
   "version": "3.10.5"
  },
  "orig_nbformat": 4,
  "vscode": {
   "interpreter": {
    "hash": "c3910da830e1f1a9806330ccd975acade9fc10eb9303de7f6548ce5a68f0fe4f"
   }
  }
 },
 "nbformat": 4,
 "nbformat_minor": 2
}
